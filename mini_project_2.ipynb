{
 "cells": [
  {
   "cell_type": "markdown",
   "source": [
    "# Data Mining Project 2"
   ],
   "metadata": {
    "collapsed": false
   },
   "id": "112de5b0dca94fac"
  },
  {
   "cell_type": "markdown",
   "source": [
    "https://datacatalog.cookcountyil.gov/Property-Taxation/Assessor-Archived-05-11-2022-Residential-Sales-Dat/5pge-nu6u/about_data"
   ],
   "metadata": {
    "collapsed": false
   },
   "id": "6df15814ab11d817"
  },
  {
   "cell_type": "markdown",
   "source": [
    "1. Data Acquisition"
   ],
   "metadata": {
    "collapsed": false
   },
   "id": "585b5ce0ca13016a"
  },
  {
   "cell_type": "code",
   "outputs": [],
   "source": [
    "import requests\n",
    "import pandas as pd"
   ],
   "metadata": {
    "collapsed": false,
    "ExecuteTime": {
     "end_time": "2024-10-18T15:05:15.966727Z",
     "start_time": "2024-10-18T15:05:15.435646Z"
    }
   },
   "id": "4ccbb167edc8a75f",
   "execution_count": 4
  },
  {
   "cell_type": "code",
   "execution_count": 2,
   "id": "initial_id",
   "metadata": {
    "collapsed": true,
    "ExecuteTime": {
     "end_time": "2024-10-18T15:05:03.290926Z",
     "start_time": "2024-10-18T15:05:02.182269Z"
    }
   },
   "outputs": [],
   "source": [
    "endpoint = \"https://datacatalog.cookcountyil.gov/resource/5pge-nu6u.json\"\n",
    "response = requests.get(endpoint)\n",
    "# this is just the first 1000 rows, should be 200k"
   ]
  },
  {
   "cell_type": "code",
   "outputs": [
    {
     "name": "stdout",
     "output_type": "stream",
     "text": [
      "1000\n"
     ]
    }
   ],
   "source": [
    "print(len(response.json()))"
   ],
   "metadata": {
    "collapsed": false,
    "ExecuteTime": {
     "end_time": "2024-10-18T15:05:35.693333Z",
     "start_time": "2024-10-18T15:05:35.676911Z"
    }
   },
   "id": "eeb1db3a15423a8a",
   "execution_count": 6
  },
  {
   "cell_type": "markdown",
   "source": [
    "2. Data Cleaning"
   ],
   "metadata": {
    "collapsed": false
   },
   "id": "bd1e0cf656224f98"
  },
  {
   "cell_type": "code",
   "outputs": [],
   "source": [],
   "metadata": {
    "collapsed": false
   },
   "id": "2e8e60e1625eddc9"
  },
  {
   "cell_type": "code",
   "outputs": [],
   "source": [],
   "metadata": {
    "collapsed": false
   },
   "id": "45c00e2b0f65b4e6"
  },
  {
   "cell_type": "markdown",
   "source": [
    "3. Data Visualization"
   ],
   "metadata": {
    "collapsed": false
   },
   "id": "391640ce52d17dc7"
  },
  {
   "cell_type": "code",
   "outputs": [],
   "source": [
    "import matplotlib.pyplot as plt"
   ],
   "metadata": {
    "collapsed": false,
    "ExecuteTime": {
     "end_time": "2024-10-18T15:09:01.847211Z",
     "start_time": "2024-10-18T15:09:01.493892Z"
    }
   },
   "id": "c7abe0861164e5d9",
   "execution_count": 15
  },
  {
   "cell_type": "code",
   "outputs": [],
   "source": [],
   "metadata": {
    "collapsed": false
   },
   "id": "4cd3c8268fa9a11e"
  },
  {
   "cell_type": "markdown",
   "source": [
    "4. Hypothesis Development"
   ],
   "metadata": {
    "collapsed": false
   },
   "id": "54b3e7fe8887d443"
  },
  {
   "cell_type": "code",
   "outputs": [],
   "source": [],
   "metadata": {
    "collapsed": false
   },
   "id": "abe2c859294abe3a"
  },
  {
   "cell_type": "code",
   "outputs": [],
   "source": [],
   "metadata": {
    "collapsed": false
   },
   "id": "b111399946c124cd"
  },
  {
   "cell_type": "markdown",
   "source": [],
   "metadata": {
    "collapsed": false
   },
   "id": "8d2d8f1688f01bc8"
  },
  {
   "cell_type": "markdown",
   "source": [
    "5. Model Development"
   ],
   "metadata": {
    "collapsed": false
   },
   "id": "cf29848e388ecdf5"
  },
  {
   "cell_type": "code",
   "outputs": [],
   "source": [
    "# Simple Regression"
   ],
   "metadata": {
    "collapsed": false,
    "ExecuteTime": {
     "end_time": "2024-10-18T15:08:08.976812Z",
     "start_time": "2024-10-18T15:08:08.971168Z"
    }
   },
   "id": "9e8e2820e591b3",
   "execution_count": 7
  },
  {
   "cell_type": "code",
   "outputs": [],
   "source": [
    "# Multiple Regression"
   ],
   "metadata": {
    "collapsed": false,
    "ExecuteTime": {
     "end_time": "2024-10-18T15:08:12.585145Z",
     "start_time": "2024-10-18T15:08:12.580464Z"
    }
   },
   "id": "995b73d327afcb7c",
   "execution_count": 8
  },
  {
   "cell_type": "code",
   "outputs": [],
   "source": [
    "# Subset Selection"
   ],
   "metadata": {
    "collapsed": false,
    "ExecuteTime": {
     "end_time": "2024-10-18T15:08:17.571572Z",
     "start_time": "2024-10-18T15:08:17.567405Z"
    }
   },
   "id": "fc0ab0ecc81f8232",
   "execution_count": 9
  },
  {
   "cell_type": "code",
   "outputs": [],
   "source": [
    "# Regularization"
   ],
   "metadata": {
    "collapsed": false,
    "ExecuteTime": {
     "end_time": "2024-10-18T15:08:21.576874Z",
     "start_time": "2024-10-18T15:08:21.573037Z"
    }
   },
   "id": "ab6ee4f33dfb81bc",
   "execution_count": 10
  },
  {
   "cell_type": "code",
   "outputs": [],
   "source": [
    "# PCA"
   ],
   "metadata": {
    "collapsed": false,
    "ExecuteTime": {
     "end_time": "2024-10-18T15:08:25.797346Z",
     "start_time": "2024-10-18T15:08:25.793400Z"
    }
   },
   "id": "709b6130fc7cd67c",
   "execution_count": 11
  },
  {
   "cell_type": "code",
   "outputs": [],
   "source": [
    "# Nonlinear Models"
   ],
   "metadata": {
    "collapsed": false,
    "ExecuteTime": {
     "end_time": "2024-10-18T15:08:31.002373Z",
     "start_time": "2024-10-18T15:08:30.998680Z"
    }
   },
   "id": "cbf1038ac4727ba8",
   "execution_count": 12
  },
  {
   "cell_type": "code",
   "outputs": [],
   "source": [
    "# Model Comparison"
   ],
   "metadata": {
    "collapsed": false,
    "ExecuteTime": {
     "end_time": "2024-10-18T15:08:37.781456Z",
     "start_time": "2024-10-18T15:08:37.777526Z"
    }
   },
   "id": "cb87df0b3ba26d89",
   "execution_count": 13
  },
  {
   "cell_type": "code",
   "outputs": [],
   "source": [
    "# Cross Validation"
   ],
   "metadata": {
    "collapsed": false,
    "ExecuteTime": {
     "end_time": "2024-10-18T15:08:43.166416Z",
     "start_time": "2024-10-18T15:08:43.161628Z"
    }
   },
   "id": "de4a9d213a07c5cb",
   "execution_count": 14
  },
  {
   "cell_type": "code",
   "outputs": [],
   "source": [],
   "metadata": {
    "collapsed": false
   },
   "id": "d39b8d29d348e1c9"
  }
 ],
 "metadata": {
  "kernelspec": {
   "display_name": "Python 3",
   "language": "python",
   "name": "python3"
  },
  "language_info": {
   "codemirror_mode": {
    "name": "ipython",
    "version": 2
   },
   "file_extension": ".py",
   "mimetype": "text/x-python",
   "name": "python",
   "nbconvert_exporter": "python",
   "pygments_lexer": "ipython2",
   "version": "2.7.6"
  }
 },
 "nbformat": 4,
 "nbformat_minor": 5
}
